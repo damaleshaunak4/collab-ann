{
  "nbformat": 4,
  "nbformat_minor": 0,
  "metadata": {
    "colab": {
      "provenance": [],
      "authorship_tag": "ABX9TyOPWNge+9Aertoalsv8jvk9",
      "include_colab_link": true
    },
    "kernelspec": {
      "name": "python3",
      "display_name": "Python 3"
    },
    "language_info": {
      "name": "python"
    }
  },
  "cells": [
    {
      "cell_type": "markdown",
      "metadata": {
        "id": "view-in-github",
        "colab_type": "text"
      },
      "source": [
        "<a href=\"https://colab.research.google.com/github/damaleshaunak4/collab-ann/blob/main/lists.ipynb\" target=\"_parent\"><img src=\"https://colab.research.google.com/assets/colab-badge.svg\" alt=\"Open In Colab\"/></a>"
      ]
    },
    {
      "cell_type": "code",
      "execution_count": 1,
      "metadata": {
        "id": "dRCDcqwsRHPE"
      },
      "outputs": [],
      "source": [
        "import torch\n",
        "import numpy as np"
      ]
    },
    {
      "cell_type": "markdown",
      "source": [
        "LIST"
      ],
      "metadata": {
        "id": "c1HtlREHARZo"
      }
    },
    {
      "cell_type": "code",
      "source": [
        "my_list = [1,2,3,4,5,6,7]\n",
        "my_list"
      ],
      "metadata": {
        "id": "_LrY-MokRiOx",
        "colab": {
          "base_uri": "https://localhost:8080/"
        },
        "outputId": "b7421f9d-6ca6-4585-f424-4e6012354eff"
      },
      "execution_count": 4,
      "outputs": [
        {
          "output_type": "execute_result",
          "data": {
            "text/plain": [
              "[1, 2, 3, 4, 5, 6, 7]"
            ]
          },
          "metadata": {},
          "execution_count": 4
        }
      ]
    },
    {
      "cell_type": "markdown",
      "source": [
        "NUMPY ARRAY"
      ],
      "metadata": {
        "id": "Ozm-qcCkASwE"
      }
    },
    {
      "cell_type": "code",
      "source": [
        "np1 = np.random.rand(4,4)\n",
        "np1"
      ],
      "metadata": {
        "colab": {
          "base_uri": "https://localhost:8080/"
        },
        "id": "pZuC2VmH_uBR",
        "outputId": "06ec9896-d736-4155-e329-9a1c711b6a29"
      },
      "execution_count": 16,
      "outputs": [
        {
          "output_type": "execute_result",
          "data": {
            "text/plain": [
              "array([[0.92404713, 0.5868733 , 0.27711316, 0.66798438],\n",
              "       [0.59785185, 0.9637623 , 0.03120026, 0.47789756],\n",
              "       [0.22783228, 0.39726297, 0.4022298 , 0.4248153 ],\n",
              "       [0.69731478, 0.30773175, 0.65514343, 0.3058967 ]])"
            ]
          },
          "metadata": {},
          "execution_count": 16
        }
      ]
    },
    {
      "cell_type": "code",
      "source": [
        "np1.dtype"
      ],
      "metadata": {
        "colab": {
          "base_uri": "https://localhost:8080/"
        },
        "id": "HobqNBPrAZgb",
        "outputId": "921e1b04-36bb-43d4-c200-3d67e9bf0a81"
      },
      "execution_count": 18,
      "outputs": [
        {
          "output_type": "execute_result",
          "data": {
            "text/plain": [
              "dtype('float64')"
            ]
          },
          "metadata": {},
          "execution_count": 18
        }
      ]
    },
    {
      "cell_type": "markdown",
      "source": [
        "TENSOR"
      ],
      "metadata": {
        "id": "ln1cGxBABjVN"
      }
    },
    {
      "cell_type": "code",
      "source": [
        "tensor_2d = torch.randn(3,4)\n",
        "tensor_2d"
      ],
      "metadata": {
        "colab": {
          "base_uri": "https://localhost:8080/"
        },
        "id": "_ZvueGiLBtQq",
        "outputId": "b3d72568-bb2a-4299-e50c-8b10e71470fd"
      },
      "execution_count": 20,
      "outputs": [
        {
          "output_type": "execute_result",
          "data": {
            "text/plain": [
              "tensor([[ 0.8593, -0.1809, -0.3104,  1.0232],\n",
              "        [ 0.9853, -0.7901, -0.3083,  0.4484],\n",
              "        [-0.2164, -0.0070, -2.6435,  0.6500]])"
            ]
          },
          "metadata": {},
          "execution_count": 20
        }
      ]
    },
    {
      "cell_type": "code",
      "source": [
        "tensor_3d = torch.ones(2,3,4)\n",
        "tensor_3d"
      ],
      "metadata": {
        "colab": {
          "base_uri": "https://localhost:8080/"
        },
        "id": "sQvvHCJDDigX",
        "outputId": "9d74b2ef-4aaf-4964-cded-22a189c82daf"
      },
      "execution_count": 25,
      "outputs": [
        {
          "output_type": "execute_result",
          "data": {
            "text/plain": [
              "tensor([[[1., 1., 1., 1.],\n",
              "         [1., 1., 1., 1.],\n",
              "         [1., 1., 1., 1.]],\n",
              "\n",
              "        [[1., 1., 1., 1.],\n",
              "         [1., 1., 1., 1.],\n",
              "         [1., 1., 1., 1.]]])"
            ]
          },
          "metadata": {},
          "execution_count": 25
        }
      ]
    },
    {
      "cell_type": "code",
      "source": [
        "# Create tensor out of numpy array\n",
        "my_tensor = torch.tensor(np1)\n",
        "my_tensor\n"
      ],
      "metadata": {
        "colab": {
          "base_uri": "https://localhost:8080/"
        },
        "id": "HPT5d_xmD_0U",
        "outputId": "cd5e57db-dbc7-4332-94fb-b0b582951771"
      },
      "execution_count": 29,
      "outputs": [
        {
          "output_type": "execute_result",
          "data": {
            "text/plain": [
              "tensor([[0.9240, 0.5869, 0.2771, 0.6680],\n",
              "        [0.5979, 0.9638, 0.0312, 0.4779],\n",
              "        [0.2278, 0.3973, 0.4022, 0.4248],\n",
              "        [0.6973, 0.3077, 0.6551, 0.3059]], dtype=torch.float64)"
            ]
          },
          "metadata": {},
          "execution_count": 29
        }
      ]
    }
  ]
}